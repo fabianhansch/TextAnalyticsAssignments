{
 "cells": [
  {
   "cell_type": "markdown",
   "metadata": {},
   "source": [
    "# Assignment 3 Classification\n",
    "## Fabian Hansch Mauritzson\n",
    "## April 25, 2021"
   ]
  },
  {
   "cell_type": "code",
   "execution_count": 1,
   "metadata": {},
   "outputs": [],
   "source": [
    "import matplotlib.pyplot as plt\n",
    "import re\n",
    "import os\n",
    "import pandas as pd\n",
    "import numpy as np\n",
    "\n",
    "import nltk\n",
    "from nltk.tokenize import word_tokenize\n",
    "from nltk import PorterStemmer\n",
    "from nltk import WordNetLemmatizer\n",
    "from nltk.corpus import stopwords\n",
    "\n",
    "from sklearn.feature_extraction.text import CountVectorizer\n",
    "from sklearn.model_selection import train_test_split\n",
    "from sklearn.feature_extraction.text import TfidfVectorizer\n",
    "from sklearn import metrics\n",
    "\n",
    "import gensim"
   ]
  },
  {
   "cell_type": "code",
   "execution_count": 42,
   "metadata": {},
   "outputs": [],
   "source": [
    "data = pd.read_csv(\"Spam Email.csv\", usecols=[\"CATEGORY\", \"MESSAGE\"])"
   ]
  },
  {
   "cell_type": "code",
   "execution_count": 43,
   "metadata": {},
   "outputs": [],
   "source": [
    "# remove non alphabets\n",
    "remove_non_alphabets = lambda x: re.sub(r'[^a-zA-Z]',' ',x)\n",
    "\n",
    "# tokenn alphabets-only list\n",
    "tokenize = lambda x: word_tokenize(x)\n",
    "\n",
    "# assign ps to a lambda function to run on each line of value\n",
    "ps = PorterStemmer()\n",
    "stem = lambda w: [ ps.stem(x) for x in w ]\n",
    "\n",
    "# assign lemmatizer to a lambda function to run on each line of value\n",
    "lemmatizer = WordNetLemmatizer()\n",
    "leammtizer = lambda x: [ lemmatizer.lemmatize(word) for word in x ]"
   ]
  },
  {
   "cell_type": "code",
   "execution_count": 44,
   "metadata": {},
   "outputs": [
    {
     "data": {
      "text/html": [
       "<div>\n",
       "<style scoped>\n",
       "    .dataframe tbody tr th:only-of-type {\n",
       "        vertical-align: middle;\n",
       "    }\n",
       "\n",
       "    .dataframe tbody tr th {\n",
       "        vertical-align: top;\n",
       "    }\n",
       "\n",
       "    .dataframe thead th {\n",
       "        text-align: right;\n",
       "    }\n",
       "</style>\n",
       "<table border=\"1\" class=\"dataframe\">\n",
       "  <thead>\n",
       "    <tr style=\"text-align: right;\">\n",
       "      <th></th>\n",
       "      <th>CATEGORY</th>\n",
       "      <th>MESSAGE</th>\n",
       "    </tr>\n",
       "  </thead>\n",
       "  <tbody>\n",
       "    <tr>\n",
       "      <th>0</th>\n",
       "      <td>1</td>\n",
       "      <td>dear homeown interest rate are at their lowest...</td>\n",
       "    </tr>\n",
       "    <tr>\n",
       "      <th>1</th>\n",
       "      <td>1</td>\n",
       "      <td>attent thi is a must for all comput user new s...</td>\n",
       "    </tr>\n",
       "    <tr>\n",
       "      <th>2</th>\n",
       "      <td>1</td>\n",
       "      <td>thi is a multi part messag in mime format next...</td>\n",
       "    </tr>\n",
       "    <tr>\n",
       "      <th>3</th>\n",
       "      <td>1</td>\n",
       "      <td>import inform the new domain name are final av...</td>\n",
       "    </tr>\n",
       "    <tr>\n",
       "      <th>4</th>\n",
       "      <td>1</td>\n",
       "      <td>thi is the bottom line If you can give away CD...</td>\n",
       "    </tr>\n",
       "  </tbody>\n",
       "</table>\n",
       "</div>"
      ],
      "text/plain": [
       "   CATEGORY                                            MESSAGE\n",
       "0         1  dear homeown interest rate are at their lowest...\n",
       "1         1  attent thi is a must for all comput user new s...\n",
       "2         1  thi is a multi part messag in mime format next...\n",
       "3         1  import inform the new domain name are final av...\n",
       "4         1  thi is the bottom line If you can give away CD..."
      ]
     },
     "execution_count": 44,
     "metadata": {},
     "output_type": "execute_result"
    }
   ],
   "source": [
    "# apply all above methods to the column ''\n",
    "data['MESSAGE'] = data['MESSAGE'].apply(remove_non_alphabets)\n",
    "data['MESSAGE'] = data['MESSAGE'].apply(tokenize)\n",
    "data['MESSAGE'] = data['MESSAGE'].apply(stem)\n",
    "data['MESSAGE'] = data['MESSAGE'].apply(leammtizer)\n",
    "data['MESSAGE'] = data['MESSAGE'].apply(lambda x: ' '.join(x))\n",
    "data.head()"
   ]
  },
  {
   "cell_type": "code",
   "execution_count": 5,
   "metadata": {},
   "outputs": [
    {
     "name": "stderr",
     "output_type": "stream",
     "text": [
      "[nltk_data] Downloading package wordnet to\n",
      "[nltk_data]     C:\\Users\\fabia\\AppData\\Roaming\\nltk_data...\n",
      "[nltk_data]   Unzipping corpora\\wordnet.zip.\n"
     ]
    },
    {
     "data": {
      "text/plain": [
       "True"
      ]
     },
     "execution_count": 5,
     "metadata": {},
     "output_type": "execute_result"
    }
   ],
   "source": [
    "#nltk.download(\"wordnet\")"
   ]
  },
  {
   "cell_type": "markdown",
   "metadata": {},
   "source": [
    "## Split the data into training and testing sets"
   ]
  },
  {
   "cell_type": "code",
   "execution_count": 45,
   "metadata": {},
   "outputs": [],
   "source": [
    "train_message, test_message, train_category, test_category = train_test_split(data[\"MESSAGE\"], data[\"CATEGORY\"], test_size=0.3)"
   ]
  },
  {
   "cell_type": "markdown",
   "metadata": {},
   "source": [
    "## Frequency feature representation"
   ]
  },
  {
   "cell_type": "code",
   "execution_count": 46,
   "metadata": {},
   "outputs": [],
   "source": [
    "freq_vectorizer=CountVectorizer(min_df=1, ngram_range=(1,1))\n",
    "freq_train_features = freq_vectorizer.fit_transform(train_message)\n",
    "freq_test_features = freq_vectorizer.transform(test_message)"
   ]
  },
  {
   "cell_type": "code",
   "execution_count": 47,
   "metadata": {},
   "outputs": [
    {
     "name": "stdout",
     "output_type": "stream",
     "text": [
      "  (0, 72457)\t1\n",
      "  (0, 22404)\t1\n",
      "  (0, 89868)\t12\n",
      "  (0, 52529)\t1\n",
      "  (0, 75207)\t16\n",
      "  (0, 42558)\t1\n",
      "  (0, 1006)\t1\n",
      "  (0, 22397)\t1\n",
      "  (0, 65531)\t1\n",
      "  (0, 79081)\t7\n",
      "  (0, 9976)\t19\n",
      "  (0, 37045)\t6\n",
      "  (0, 56512)\t4\n",
      "  (0, 56529)\t2\n",
      "  (0, 70201)\t1\n",
      "  (0, 11334)\t12\n",
      "  (0, 67109)\t3\n",
      "  (0, 74295)\t16\n",
      "  (0, 44073)\t1\n",
      "  (0, 80540)\t1\n",
      "  (0, 55730)\t7\n",
      "  (0, 79082)\t17\n",
      "  (0, 69132)\t13\n",
      "  (0, 13768)\t1\n",
      "  (0, 83733)\t1\n",
      "  :\t:\n",
      "  (4056, 59120)\t2\n",
      "  (4056, 5212)\t2\n",
      "  (4056, 30004)\t1\n",
      "  (4056, 60425)\t8\n",
      "  (4056, 6728)\t8\n",
      "  (4056, 59736)\t1\n",
      "  (4056, 9303)\t1\n",
      "  (4056, 39276)\t2\n",
      "  (4056, 52676)\t2\n",
      "  (4056, 1671)\t1\n",
      "  (4056, 27233)\t1\n",
      "  (4056, 43979)\t1\n",
      "  (4056, 8913)\t1\n",
      "  (4056, 65626)\t8\n",
      "  (4056, 59122)\t5\n",
      "  (4056, 86181)\t1\n",
      "  (4056, 88322)\t1\n",
      "  (4056, 66413)\t1\n",
      "  (4056, 9052)\t1\n",
      "  (4056, 28991)\t1\n",
      "  (4056, 29421)\t1\n",
      "  (4056, 84564)\t1\n",
      "  (4056, 78313)\t1\n",
      "  (4056, 52686)\t8\n",
      "  (4056, 34084)\t8\n"
     ]
    }
   ],
   "source": [
    "print(freq_train_features)"
   ]
  },
  {
   "cell_type": "markdown",
   "metadata": {},
   "source": [
    "## Binary feature representation"
   ]
  },
  {
   "cell_type": "code",
   "execution_count": 48,
   "metadata": {},
   "outputs": [],
   "source": [
    "bin_vectorizer=CountVectorizer(min_df=1, ngram_range=(1,1), binary = True)\n",
    "bin_train_features = bin_vectorizer.fit_transform(train_message)\n",
    "bin_test_features = bin_vectorizer.transform(test_message)"
   ]
  },
  {
   "cell_type": "code",
   "execution_count": 49,
   "metadata": {},
   "outputs": [
    {
     "name": "stdout",
     "output_type": "stream",
     "text": [
      "  (0, 72457)\t1\n",
      "  (0, 22404)\t1\n",
      "  (0, 89868)\t1\n",
      "  (0, 52529)\t1\n",
      "  (0, 75207)\t1\n",
      "  (0, 42558)\t1\n",
      "  (0, 1006)\t1\n",
      "  (0, 22397)\t1\n",
      "  (0, 65531)\t1\n",
      "  (0, 79081)\t1\n",
      "  (0, 9976)\t1\n",
      "  (0, 37045)\t1\n",
      "  (0, 56512)\t1\n",
      "  (0, 56529)\t1\n",
      "  (0, 70201)\t1\n",
      "  (0, 11334)\t1\n",
      "  (0, 67109)\t1\n",
      "  (0, 74295)\t1\n",
      "  (0, 44073)\t1\n",
      "  (0, 80540)\t1\n",
      "  (0, 55730)\t1\n",
      "  (0, 79082)\t1\n",
      "  (0, 69132)\t1\n",
      "  (0, 13768)\t1\n",
      "  (0, 83733)\t1\n",
      "  :\t:\n",
      "  (4056, 59120)\t1\n",
      "  (4056, 5212)\t1\n",
      "  (4056, 30004)\t1\n",
      "  (4056, 60425)\t1\n",
      "  (4056, 6728)\t1\n",
      "  (4056, 59736)\t1\n",
      "  (4056, 9303)\t1\n",
      "  (4056, 39276)\t1\n",
      "  (4056, 52676)\t1\n",
      "  (4056, 1671)\t1\n",
      "  (4056, 27233)\t1\n",
      "  (4056, 43979)\t1\n",
      "  (4056, 8913)\t1\n",
      "  (4056, 65626)\t1\n",
      "  (4056, 59122)\t1\n",
      "  (4056, 86181)\t1\n",
      "  (4056, 88322)\t1\n",
      "  (4056, 66413)\t1\n",
      "  (4056, 9052)\t1\n",
      "  (4056, 28991)\t1\n",
      "  (4056, 29421)\t1\n",
      "  (4056, 84564)\t1\n",
      "  (4056, 78313)\t1\n",
      "  (4056, 52686)\t1\n",
      "  (4056, 34084)\t1\n"
     ]
    }
   ],
   "source": [
    "print(bin_train_features)"
   ]
  },
  {
   "cell_type": "markdown",
   "metadata": {},
   "source": [
    "## Tf-idf feature representation"
   ]
  },
  {
   "cell_type": "code",
   "execution_count": 50,
   "metadata": {},
   "outputs": [],
   "source": [
    "tfidf_vectorizer=TfidfVectorizer(min_df=1, norm='l2', smooth_idf=True, use_idf=True, ngram_range=(1,1))\n",
    "tfidf_train_features = tfidf_vectorizer.fit_transform(train_message)  \n",
    "tfidf_test_features = tfidf_vectorizer.transform(test_message)   "
   ]
  },
  {
   "cell_type": "code",
   "execution_count": 51,
   "metadata": {
    "scrolled": true
   },
   "outputs": [
    {
     "name": "stdout",
     "output_type": "stream",
     "text": [
      "  (0, 74276)\t0.017045493721165563\n",
      "  (0, 13097)\t0.025856167847622086\n",
      "  (0, 52638)\t0.011573476466212014\n",
      "  (0, 9674)\t0.026331569081591885\n",
      "  (0, 36239)\t0.03640525610661432\n",
      "  (0, 47574)\t0.01698243999361684\n",
      "  (0, 32344)\t0.015167372829069619\n",
      "  (0, 65687)\t0.06989131620605618\n",
      "  (0, 30850)\t0.01228783092834959\n",
      "  (0, 12800)\t0.013282137615452771\n",
      "  (0, 30682)\t0.024924748890498793\n",
      "  (0, 2203)\t0.019612383004138808\n",
      "  (0, 52718)\t0.01869116149108296\n",
      "  (0, 29309)\t0.021359180021985398\n",
      "  (0, 36509)\t0.03749684622074196\n",
      "  (0, 82795)\t0.01293079765571175\n",
      "  (0, 48677)\t0.013347449851699476\n",
      "  (0, 34177)\t0.01006593885831953\n",
      "  (0, 4477)\t0.02644290404204884\n",
      "  (0, 7994)\t0.022298396805292456\n",
      "  (0, 4497)\t0.023014660668629304\n",
      "  (0, 70092)\t0.02316955288292143\n",
      "  (0, 3840)\t0.023361238441353047\n",
      "  (0, 51325)\t0.01232422090508157\n",
      "  (0, 5595)\t0.024276869529756984\n",
      "  :\t:\n",
      "  (4056, 24911)\t0.0447111178773528\n",
      "  (4056, 4852)\t0.00824185552042759\n",
      "  (4056, 84124)\t0.010852403902551093\n",
      "  (4056, 84417)\t0.009749057207029404\n",
      "  (4056, 57809)\t0.030456174884953172\n",
      "  (4056, 89878)\t0.0864767802703005\n",
      "  (4056, 56984)\t0.01646404576977267\n",
      "  (4056, 52726)\t0.01074220954039413\n",
      "  (4056, 2148)\t0.014693888864504326\n",
      "  (4056, 65240)\t0.025283231088619323\n",
      "  (4056, 35917)\t0.012767973716958723\n",
      "  (4056, 36160)\t0.022045392992967042\n",
      "  (4056, 83733)\t0.025755068831068543\n",
      "  (4056, 55730)\t0.04909623095105773\n",
      "  (4056, 74295)\t0.021457885239646257\n",
      "  (4056, 70201)\t0.01952921545101339\n",
      "  (4056, 56529)\t0.01990702501346358\n",
      "  (4056, 56512)\t0.020800897639961905\n",
      "  (4056, 9976)\t0.014101625493614071\n",
      "  (4056, 22397)\t0.0310165312417226\n",
      "  (4056, 1006)\t0.011004943885860744\n",
      "  (4056, 42558)\t0.012692085807272505\n",
      "  (4056, 75207)\t0.03756063912303392\n",
      "  (4056, 89868)\t0.12420396175230833\n",
      "  (4056, 22404)\t0.018252421386062846\n"
     ]
    }
   ],
   "source": [
    "print(tfidf_train_features)"
   ]
  },
  {
   "cell_type": "markdown",
   "metadata": {},
   "source": [
    "## Function for train/test/evaluate"
   ]
  },
  {
   "cell_type": "code",
   "execution_count": 52,
   "metadata": {},
   "outputs": [],
   "source": [
    "def train_predict_evaluate_model(classifier, \n",
    "                                 train_features, train_labels, \n",
    "                                 test_features, test_labels):\n",
    "    # build model    \n",
    "    classifier.fit(train_features, train_labels)\n",
    "    # predict using model\n",
    "    predictions = classifier.predict(test_features) \n",
    "    \n",
    "    print(metrics.classification_report(test_labels,predictions))\n",
    "    return predictions, get_metrics(true_labels=test_labels, predicted_labels=predictions)"
   ]
  },
  {
   "cell_type": "markdown",
   "metadata": {},
   "source": [
    "## Import classifiers"
   ]
  },
  {
   "cell_type": "code",
   "execution_count": 86,
   "metadata": {},
   "outputs": [],
   "source": [
    "from sklearn.naive_bayes import MultinomialNB # import naive bayes\n",
    "from sklearn.tree import DecisionTreeClassifier # import Decision Tree\n",
    "from sklearn.ensemble import RandomForestClassifier # import random forest\n",
    "from sklearn.metrics import confusion_matrix"
   ]
  },
  {
   "cell_type": "markdown",
   "metadata": {},
   "source": [
    "## Frequency Evaluations\n",
    "### Naive Bayes"
   ]
  },
  {
   "cell_type": "code",
   "execution_count": 54,
   "metadata": {
    "scrolled": true
   },
   "outputs": [
    {
     "name": "stdout",
     "output_type": "stream",
     "text": [
      "              precision    recall  f1-score   support\n",
      "\n",
      "           0       0.90      0.99      0.95      1177\n",
      "           1       0.99      0.78      0.87       562\n",
      "\n",
      "    accuracy                           0.92      1739\n",
      "   macro avg       0.95      0.89      0.91      1739\n",
      "weighted avg       0.93      0.92      0.92      1739\n",
      "\n"
     ]
    }
   ],
   "source": [
    "mnb = MultinomialNB()\n",
    "mnb_freq_predictions, mnb_freq_metrics = train_predict_evaluate_model(classifier=mnb,\n",
    "                                           train_features=freq_train_features,\n",
    "                                           train_labels=train_category,\n",
    "                                           test_features=freq_test_features,\n",
    "                                           test_labels=test_category)"
   ]
  },
  {
   "cell_type": "code",
   "execution_count": 85,
   "metadata": {},
   "outputs": [
    {
     "data": {
      "text/plain": [
       "array([[1171,    6],\n",
       "       [ 125,  437]], dtype=int64)"
      ]
     },
     "execution_count": 85,
     "metadata": {},
     "output_type": "execute_result"
    }
   ],
   "source": [
    "confusion_matrix(test_category, mnb_freq_predictions)"
   ]
  },
  {
   "cell_type": "markdown",
   "metadata": {},
   "source": [
    "### Decision Tree"
   ]
  },
  {
   "cell_type": "code",
   "execution_count": 55,
   "metadata": {},
   "outputs": [
    {
     "name": "stdout",
     "output_type": "stream",
     "text": [
      "              precision    recall  f1-score   support\n",
      "\n",
      "           0       0.96      0.96      0.96      1177\n",
      "           1       0.92      0.92      0.92       562\n",
      "\n",
      "    accuracy                           0.95      1739\n",
      "   macro avg       0.94      0.94      0.94      1739\n",
      "weighted avg       0.95      0.95      0.95      1739\n",
      "\n"
     ]
    }
   ],
   "source": [
    "dt = DecisionTreeClassifier()\n",
    "dt_freq_predictions, dt_freq_metrics = train_predict_evaluate_model(classifier=dt,\n",
    "                                           train_features=freq_train_features,\n",
    "                                           train_labels=train_category,\n",
    "                                           test_features=freq_test_features,\n",
    "                                           test_labels=test_category)"
   ]
  },
  {
   "cell_type": "code",
   "execution_count": 84,
   "metadata": {},
   "outputs": [
    {
     "data": {
      "text/plain": [
       "array([[1132,   45],\n",
       "       [  43,  519]], dtype=int64)"
      ]
     },
     "execution_count": 84,
     "metadata": {},
     "output_type": "execute_result"
    }
   ],
   "source": [
    "confusion_matrix(test_category, dt_freq_predictions)"
   ]
  },
  {
   "cell_type": "markdown",
   "metadata": {},
   "source": [
    "### Random Forest"
   ]
  },
  {
   "cell_type": "code",
   "execution_count": 57,
   "metadata": {},
   "outputs": [
    {
     "name": "stdout",
     "output_type": "stream",
     "text": [
      "              precision    recall  f1-score   support\n",
      "\n",
      "           0       0.97      1.00      0.98      1177\n",
      "           1       0.99      0.93      0.96       562\n",
      "\n",
      "    accuracy                           0.98      1739\n",
      "   macro avg       0.98      0.96      0.97      1739\n",
      "weighted avg       0.98      0.98      0.98      1739\n",
      "\n"
     ]
    }
   ],
   "source": [
    "rf = RandomForestClassifier(criterion=\"entropy\")\n",
    "rf_freq_predictions, rf_freq_metrics = train_predict_evaluate_model(classifier=rf,\n",
    "                                           train_features=freq_train_features,\n",
    "                                           train_labels=train_category,\n",
    "                                           test_features=freq_test_features,\n",
    "                                           test_labels=test_category)"
   ]
  },
  {
   "cell_type": "code",
   "execution_count": 83,
   "metadata": {},
   "outputs": [
    {
     "data": {
      "text/plain": [
       "array([[1173,    4],\n",
       "       [  39,  523]], dtype=int64)"
      ]
     },
     "execution_count": 83,
     "metadata": {},
     "output_type": "execute_result"
    }
   ],
   "source": [
    "confusion_matrix(test_category, rf_freq_predictions)"
   ]
  },
  {
   "cell_type": "markdown",
   "metadata": {},
   "source": [
    "## Binary Evaluation\n",
    "### Naive Bayes"
   ]
  },
  {
   "cell_type": "code",
   "execution_count": 58,
   "metadata": {},
   "outputs": [
    {
     "name": "stdout",
     "output_type": "stream",
     "text": [
      "              precision    recall  f1-score   support\n",
      "\n",
      "           0       0.91      1.00      0.95      1177\n",
      "           1       0.99      0.79      0.88       562\n",
      "\n",
      "    accuracy                           0.93      1739\n",
      "   macro avg       0.95      0.90      0.92      1739\n",
      "weighted avg       0.94      0.93      0.93      1739\n",
      "\n"
     ]
    }
   ],
   "source": [
    "mnb = MultinomialNB()\n",
    "mnb_bin_predictions, mnb_bin_metrics = train_predict_evaluate_model(classifier=mnb,\n",
    "                                           train_features=bin_train_features,\n",
    "                                           train_labels=train_category,\n",
    "                                           test_features=bin_test_features,\n",
    "                                           test_labels=test_category)"
   ]
  },
  {
   "cell_type": "code",
   "execution_count": 82,
   "metadata": {},
   "outputs": [
    {
     "data": {
      "text/plain": [
       "array([[1173,    4],\n",
       "       [ 116,  446]], dtype=int64)"
      ]
     },
     "execution_count": 82,
     "metadata": {},
     "output_type": "execute_result"
    }
   ],
   "source": [
    "confusion_matrix(test_category, mnb_bin_predictions)"
   ]
  },
  {
   "cell_type": "markdown",
   "metadata": {},
   "source": [
    "### Decision Tree"
   ]
  },
  {
   "cell_type": "code",
   "execution_count": 59,
   "metadata": {},
   "outputs": [
    {
     "name": "stdout",
     "output_type": "stream",
     "text": [
      "              precision    recall  f1-score   support\n",
      "\n",
      "           0       0.97      0.97      0.97      1177\n",
      "           1       0.94      0.93      0.93       562\n",
      "\n",
      "    accuracy                           0.96      1739\n",
      "   macro avg       0.95      0.95      0.95      1739\n",
      "weighted avg       0.96      0.96      0.96      1739\n",
      "\n"
     ]
    }
   ],
   "source": [
    "dt = DecisionTreeClassifier()\n",
    "dt_bin_predictions, dt_bin_metrics = train_predict_evaluate_model(classifier=dt,\n",
    "                                           train_features=bin_train_features,\n",
    "                                           train_labels=train_category,\n",
    "                                           test_features=bin_test_features,\n",
    "                                           test_labels=test_category)"
   ]
  },
  {
   "cell_type": "code",
   "execution_count": 81,
   "metadata": {},
   "outputs": [
    {
     "data": {
      "text/plain": [
       "array([[1142,   35],\n",
       "       [  41,  521]], dtype=int64)"
      ]
     },
     "execution_count": 81,
     "metadata": {},
     "output_type": "execute_result"
    }
   ],
   "source": [
    "confusion_matrix(test_category, dt_bin_predictions)"
   ]
  },
  {
   "cell_type": "markdown",
   "metadata": {},
   "source": [
    "### Random Forest"
   ]
  },
  {
   "cell_type": "code",
   "execution_count": 60,
   "metadata": {
    "scrolled": true
   },
   "outputs": [
    {
     "name": "stdout",
     "output_type": "stream",
     "text": [
      "              precision    recall  f1-score   support\n",
      "\n",
      "           0       0.97      1.00      0.98      1177\n",
      "           1       0.99      0.93      0.96       562\n",
      "\n",
      "    accuracy                           0.97      1739\n",
      "   macro avg       0.98      0.96      0.97      1739\n",
      "weighted avg       0.97      0.97      0.97      1739\n",
      "\n"
     ]
    }
   ],
   "source": [
    "rf = RandomForestClassifier(criterion=\"entropy\")\n",
    "rf_bin_predictions, rf_bin_metrics = train_predict_evaluate_model(classifier=rf,\n",
    "                                           train_features=bin_train_features,\n",
    "                                           train_labels=train_category,\n",
    "                                           test_features=bin_test_features,\n",
    "                                           test_labels=test_category)"
   ]
  },
  {
   "cell_type": "code",
   "execution_count": 80,
   "metadata": {},
   "outputs": [
    {
     "data": {
      "text/plain": [
       "array([[1174,    3],\n",
       "       [  42,  520]], dtype=int64)"
      ]
     },
     "execution_count": 80,
     "metadata": {},
     "output_type": "execute_result"
    }
   ],
   "source": [
    "confusion_matrix(test_category, rf_bin_predictions)"
   ]
  },
  {
   "cell_type": "markdown",
   "metadata": {},
   "source": [
    "## TF-IDF Evaluation\n",
    "### Naive Bayes"
   ]
  },
  {
   "cell_type": "code",
   "execution_count": 61,
   "metadata": {
    "scrolled": true
   },
   "outputs": [
    {
     "name": "stdout",
     "output_type": "stream",
     "text": [
      "              precision    recall  f1-score   support\n",
      "\n",
      "           0       0.84      1.00      0.91      1177\n",
      "           1       0.99      0.62      0.76       562\n",
      "\n",
      "    accuracy                           0.87      1739\n",
      "   macro avg       0.92      0.81      0.84      1739\n",
      "weighted avg       0.89      0.87      0.86      1739\n",
      "\n"
     ]
    }
   ],
   "source": [
    "mnb = MultinomialNB()\n",
    "mnb_tf_predictions, mnb_tf_metrics = train_predict_evaluate_model(classifier=mnb,\n",
    "                                           train_features=tfidf_train_features,\n",
    "                                           train_labels=train_category,\n",
    "                                           test_features=tfidf_test_features,\n",
    "                                           test_labels=test_category)"
   ]
  },
  {
   "cell_type": "code",
   "execution_count": 79,
   "metadata": {},
   "outputs": [
    {
     "data": {
      "text/plain": [
       "array([[1173,    4],\n",
       "       [ 216,  346]], dtype=int64)"
      ]
     },
     "execution_count": 79,
     "metadata": {},
     "output_type": "execute_result"
    }
   ],
   "source": [
    "confusion_matrix(test_category, mnb_tf_predictions)"
   ]
  },
  {
   "cell_type": "markdown",
   "metadata": {},
   "source": [
    "### Decision Tree"
   ]
  },
  {
   "cell_type": "code",
   "execution_count": 62,
   "metadata": {},
   "outputs": [
    {
     "name": "stdout",
     "output_type": "stream",
     "text": [
      "              precision    recall  f1-score   support\n",
      "\n",
      "           0       0.96      0.96      0.96      1177\n",
      "           1       0.91      0.92      0.92       562\n",
      "\n",
      "    accuracy                           0.95      1739\n",
      "   macro avg       0.94      0.94      0.94      1739\n",
      "weighted avg       0.95      0.95      0.95      1739\n",
      "\n"
     ]
    }
   ],
   "source": [
    "dt = DecisionTreeClassifier()\n",
    "dt_tf_predictions, dt_tf_metrics = train_predict_evaluate_model(classifier=dt,\n",
    "                                           train_features=tfidf_train_features,\n",
    "                                           train_labels=train_category,\n",
    "                                           test_features=tfidf_test_features,\n",
    "                                           test_labels=test_category)"
   ]
  },
  {
   "cell_type": "code",
   "execution_count": 78,
   "metadata": {},
   "outputs": [
    {
     "data": {
      "text/plain": [
       "array([[1126,   51],\n",
       "       [  43,  519]], dtype=int64)"
      ]
     },
     "execution_count": 78,
     "metadata": {},
     "output_type": "execute_result"
    }
   ],
   "source": [
    "confusion_matrix(test_category, dt_tf_predictions)"
   ]
  },
  {
   "cell_type": "markdown",
   "metadata": {},
   "source": [
    "### Random Forest"
   ]
  },
  {
   "cell_type": "code",
   "execution_count": 63,
   "metadata": {},
   "outputs": [
    {
     "name": "stdout",
     "output_type": "stream",
     "text": [
      "              precision    recall  f1-score   support\n",
      "\n",
      "           0       0.96      1.00      0.98      1177\n",
      "           1       0.99      0.90      0.95       562\n",
      "\n",
      "    accuracy                           0.97      1739\n",
      "   macro avg       0.97      0.95      0.96      1739\n",
      "weighted avg       0.97      0.97      0.97      1739\n",
      "\n"
     ]
    }
   ],
   "source": [
    "rf = RandomForestClassifier(criterion=\"entropy\")\n",
    "rf_tf_predictions, rf_tf_metrics = train_predict_evaluate_model(classifier=rf,\n",
    "                                           train_features=tfidf_train_features,\n",
    "                                           train_labels=train_category,\n",
    "                                           test_features=tfidf_test_features,\n",
    "                                           test_labels=test_category)"
   ]
  },
  {
   "cell_type": "code",
   "execution_count": 77,
   "metadata": {},
   "outputs": [
    {
     "data": {
      "text/plain": [
       "array([[1173,    4],\n",
       "       [  55,  507]], dtype=int64)"
      ]
     },
     "execution_count": 77,
     "metadata": {},
     "output_type": "execute_result"
    }
   ],
   "source": [
    "confusion_matrix(test_category, rf_tf_predictions)"
   ]
  },
  {
   "cell_type": "code",
   "execution_count": null,
   "metadata": {},
   "outputs": [],
   "source": []
  }
 ],
 "metadata": {
  "kernelspec": {
   "display_name": "Python 3",
   "language": "python",
   "name": "python3"
  },
  "language_info": {
   "codemirror_mode": {
    "name": "ipython",
    "version": 3
   },
   "file_extension": ".py",
   "mimetype": "text/x-python",
   "name": "python",
   "nbconvert_exporter": "python",
   "pygments_lexer": "ipython3",
   "version": "3.8.3"
  }
 },
 "nbformat": 4,
 "nbformat_minor": 4
}
